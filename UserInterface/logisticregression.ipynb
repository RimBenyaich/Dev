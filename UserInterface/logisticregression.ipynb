{
  "nbformat": 4,
  "nbformat_minor": 0,
  "metadata": {
    "colab": {
      "name": "logisticregression.ipynb",
      "provenance": [],
      "collapsed_sections": []
    },
    "kernelspec": {
      "name": "python3",
      "display_name": "Python 3"
    }
  },
  "cells": [
    {
      "cell_type": "code",
      "metadata": {
        "id": "-IS0mBL9AqBj",
        "colab": {
          "resources": {
            "http://localhost:8080/nbextensions/google.colab/files.js": {
              "data": "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",
              "ok": true,
              "headers": [
                [
                  "content-type",
                  "application/javascript"
                ]
              ],
              "status": 200,
              "status_text": ""
            }
          },
          "base_uri": "https://localhost:8080/",
          "height": 37
        },
        "outputId": "bb3e8f9d-c80d-4d26-99a3-2e9b57e71c84"
      },
      "source": [
        "import numpy as np\n",
        "import pandas as pd\n",
        "from sklearn.model_selection import train_test_split\n",
        "\n",
        "from google.colab import files\n",
        "uploaded = files.upload()\n"
      ],
      "execution_count": null,
      "outputs": [
        {
          "output_type": "display_data",
          "data": {
            "text/html": [
              "\n",
              "     <input type=\"file\" id=\"files-9b98f9ce-3b4c-40da-9663-0ee0e5b8aa5f\" name=\"files[]\" multiple disabled />\n",
              "     <output id=\"result-9b98f9ce-3b4c-40da-9663-0ee0e5b8aa5f\">\n",
              "      Upload widget is only available when the cell has been executed in the\n",
              "      current browser session. Please rerun this cell to enable.\n",
              "      </output>\n",
              "      <script src=\"/nbextensions/google.colab/files.js\"></script> "
            ],
            "text/plain": [
              "<IPython.core.display.HTML object>"
            ]
          },
          "metadata": {
            "tags": []
          }
        }
      ]
    },
    {
      "cell_type": "markdown",
      "metadata": {
        "id": "MqHecsKZ3dT4"
      },
      "source": [
        "Sigmoid computes the sigmoid activation function of Z, giving us A."
      ]
    },
    {
      "cell_type": "code",
      "metadata": {
        "id": "Dkd-wz22k9bG"
      },
      "source": [
        "def Sigmoid(z):\n",
        "  return (1 / (1 + np.exp(-z.astype(float))))"
      ],
      "execution_count": null,
      "outputs": []
    },
    {
      "cell_type": "markdown",
      "metadata": {
        "id": "lH0hSX4O4FSH"
      },
      "source": [
        " The main function calls the Train function to get the final values of the weights and bias. It then calculates the success rate of the model."
      ]
    },
    {
      "cell_type": "code",
      "metadata": {
        "id": "1xAFOQWuuQoJ"
      },
      "source": [
        "def main():\n",
        "    # yourfile represents your csv file name\n",
        "    W,B = Train('yourfile.csv',2,0.001)\n",
        "    print(\"Weights:\\n\",W)\n",
        "    print(\"Bias: \",B)\n",
        "    successRate = Test('yourfile.csv',W,B)\n",
        "    print(\"Success Rate: \",np.sum(successRate))"
      ],
      "execution_count": null,
      "outputs": []
    },
    {
      "cell_type": "markdown",
      "metadata": {
        "id": "iVppMY226KHw"
      },
      "source": [
        "The Save Result function adds a new column to the test results file that represents the predictions. Everything is saved in a new file not to disturb the program the next time it runs."
      ]
    },
    {
      "cell_type": "code",
      "metadata": {
        "id": "3bnijKPRrl91"
      },
      "source": [
        "def SaveResult(file,result):\n",
        "    df = pd.read_csv(file)\n",
        "    df['Prediction'] = [int(i) for i in np.transpose(result)]\n",
        "    df.to_csv('test-result.csv')"
      ],
      "execution_count": null,
      "outputs": []
    },
    {
      "cell_type": "markdown",
      "metadata": {
        "id": "hf2MTdEc4yay"
      },
      "source": [
        "The Train function will read the file and make a call to the initialize function after transposing both X and Y. It will then make a call to the Gradient Descent function that will return the final W and B. "
      ]
    },
    {
      "cell_type": "code",
      "metadata": {
        "id": "J9U60atblCP1"
      },
      "source": [
        "def Train(file, epochs, alpha):\n",
        "    X,Y = Read(file)\n",
        "    X = np.transpose(X)\n",
        "    \n",
        "    Y = np.transpose(Y)\n",
        "    nx,m = np.shape(X)\n",
        "    W,B = Initialize(nx)\n",
        "    W,B = GradientDescent(W,B,X,Y,epochs, alpha)\n",
        "    \n",
        "    return W,B"
      ],
      "execution_count": null,
      "outputs": []
    },
    {
      "cell_type": "markdown",
      "metadata": {
        "id": "qe7Gkhuh5KSw"
      },
      "source": [
        "The Test function will execute the gradient descent for one epoch. It will then return the success rate that will be displayed at the end."
      ]
    },
    {
      "cell_type": "code",
      "metadata": {
        "id": "-X8Od0Y3q-yW"
      },
      "source": [
        "def Test(file,W,B):\n",
        "    X,Y = Read(file)\n",
        "    X = np.transpose(X)\n",
        "    # X = Normalize(X)\n",
        "    Y = np.transpose(Y)\n",
        "    Z = np.dot(W.T, X) + B\n",
        "    A = Sigmoid(Z)\n",
        "    A = np.round(A)\n",
        "    diff = np.sum(np.abs(A-Y))\n",
        "    successRate = (1 - (diff/np.size(A)))/X.shape[1]\n",
        "    return successRate"
      ],
      "execution_count": null,
      "outputs": []
    },
    {
      "cell_type": "markdown",
      "metadata": {
        "id": "vvR-zWsc83Ov"
      },
      "source": [
        "The Read function reads data from the file and manages both the splitting and cleaning of the data."
      ]
    },
    {
      "cell_type": "code",
      "metadata": {
        "id": "66Cr28uGlEAy"
      },
      "source": [
        "def Read(file):\n",
        "    data = pd.read_csv(file, delimiter=';')\n",
        "    data_train, data_test = splitting(data)\n",
        "    \n",
        "    Y_train = data_train.filter(['y'], axis=1)\n",
        "    X_train = data_train.drop(['y'], axis=1)\n",
        "    X_train = Clean_X(X_train)\n",
        "    Y_train = Clean_Y(Y_train)\n",
        "\n",
        "    Y_test = data_test.filter(['y'], axis=1)\n",
        "    X_test = data_test.drop(['y'], axis=1)\n",
        "    X_test = Clean_X(X_test)\n",
        "    Y_test = Clean_Y(Y_test)\n",
        "\n",
        "    # print(X)\n",
        "    # print(Y)\n",
        "    return X_train, Y_train"
      ],
      "execution_count": null,
      "outputs": []
    },
    {
      "cell_type": "markdown",
      "metadata": {
        "id": "8BTJIEhl5nwS"
      },
      "source": [
        "This function initializes the weights with random values and the bias with zero."
      ]
    },
    {
      "cell_type": "code",
      "metadata": {
        "id": "mpvFoNnmlFfN"
      },
      "source": [
        "def Initialize(nx):\n",
        "    W = np.random.randn(nx, 1)* 0.01\n",
        "    B = 0\n",
        "    return W,B"
      ],
      "execution_count": null,
      "outputs": []
    },
    {
      "cell_type": "markdown",
      "metadata": {
        "id": "AZh_MaOo5yG7"
      },
      "source": [
        "The Gradient Descent function follows the algorithm seen in class. It uses the forward then backward propagation with a calculation of the cost and an update of the weights and bias."
      ]
    },
    {
      "cell_type": "code",
      "metadata": {
        "id": "mJpVF8CqteW5"
      },
      "source": [
        "def GradientDescent(W,B,X,Y,epochs,learnRate):\n",
        "    m,nx = np.shape(X)\n",
        "    costs = []\n",
        "    print(\"Working with learn rate\",learnRate,\"and\",epochs,\"iterations\")\n",
        "    for i in range (epochs):\n",
        "        print(\"Epoch: \", i+1)\n",
        "        Z = np.array(np.dot(W.T,X) + B, dtype=np.float32)\n",
        "        A = Sigmoid(Z.astype(float))\n",
        "        cost = 1/m * - np.sum(Y*np.log(A)+(1-Y)*np.log(1-A))\n",
        "        print(\"Cost: \", np.sum(cost))\n",
        "        if i==0 or i==epochs-1:\n",
        "            costs.append(cost)\n",
        "        dz = A-Y\n",
        "        dw = (1/m) * np.dot(X,dz.T)\n",
        "        db = (1/m) * np.sum(dz)\n",
        "        W = W - learnRate*dw\n",
        "        B = B - learnRate*np.mean(db)\n",
        "        print(\"Accuracy: \", accuracy(classify(A), Y))\n",
        "    print(\"Cost started with:\",np.sum(costs[0]),\"and ended with:\",np.sum(costs[1]))\n",
        "    return W,B"
      ],
      "execution_count": null,
      "outputs": []
    },
    {
      "cell_type": "code",
      "metadata": {
        "id": "54NIfsv4u2Ih",
        "colab": {
          "base_uri": "https://localhost:8080/",
          "height": 476
        },
        "outputId": "37e470ff-ffb8-4aa8-a6f2-a2c1d0c3cca2"
      },
      "source": [
        " main()"
      ],
      "execution_count": null,
      "outputs": [
        {
          "output_type": "stream",
          "text": [
            "Working with learn rate 0.001 and 2 iterations\n",
            "Epoch:  1\n",
            "Cost:  1575.4242797371958\n",
            "Accuracy:  0.19929219199292192\n",
            "Epoch:  2\n",
            "Cost:  950.1992202986967\n",
            "Accuracy:  0.8835434638354347\n",
            "Cost started with: 1575.4242797371958 and ended with: 950.1992202986967\n",
            "Weights:\n",
            " [[-0.3525409111184808]\n",
            " [-0.35296488472956805]\n",
            " [-0.3342792543247544]\n",
            " [-0.31804335283437896]\n",
            " [-0.013247542651524155]\n",
            " [-0.11877234023189051]\n",
            " [-0.722764998092892]\n",
            " [-0.22812114820160095]\n",
            " [-0.33410302220469607]\n",
            " [-0.5606555824644339]\n",
            " [-0.3334854483450311]\n",
            " [-0.05715184773972089]\n",
            " [-0.040543445136744315]\n",
            " [-0.0253435084518776]\n",
            " [-0.009362350480822764]\n",
            " [-0.3386486471927609]]\n",
            "Bias:  -3.3243997317697746e-05\n",
            "Success Rate:  0.9999968259895168\n"
          ],
          "name": "stdout"
        }
      ]
    },
    {
      "cell_type": "markdown",
      "metadata": {
        "id": "gqSfoml-7Kox"
      },
      "source": [
        "The Splitting function splits the data into a training and testing set."
      ]
    },
    {
      "cell_type": "code",
      "metadata": {
        "id": "rfGm9qE6nBi3"
      },
      "source": [
        "def splitting(data):\n",
        "  train, test = train_test_split(data, test_size=0.2)\n",
        "  return train, test;"
      ],
      "execution_count": null,
      "outputs": []
    },
    {
      "cell_type": "markdown",
      "metadata": {
        "id": "IHlJRb8n7Zf3"
      },
      "source": [
        "The Clean_X function helps cleaning the data into different categories (int, category, date)."
      ]
    },
    {
      "cell_type": "code",
      "metadata": {
        "id": "rEWpN50v6TJQ"
      },
      "source": [
        "def Clean_X(data):\n",
        "  data.default.replace(('yes', 'no'), (1, 0), inplace=True)\n",
        "  data.housing.replace(('yes', 'no'), (1, 0), inplace=True)\n",
        "  data.loan.replace(('yes', 'no'), (1, 0), inplace=True)\n",
        "  data.age = (data.age - min(data.age)) / (max(data.age) - min(data.age))\n",
        "  data.balance = (data.balance - min(data.balance)) / (max(data.balance) - min(data.age))\n",
        "  data.day = (data.day - min(data.day)) / (max(data.day)- min(data.age))\n",
        "  data.duration = (data.duration - min(data.duration)) / (max(data.duration)- min(data.age))\n",
        "  data.campaign = (data.campaign - min(data.campaign)) / (max(data.campaign)- min(data.age))\n",
        "  data.pdays = (data.pdays - min(data.pdays)) / (max(data.pdays)- min(data.age))\n",
        "  data.previous = (data.previous - min(data.previous)) / (max(data.previous)- min(data.age))\n",
        "\n",
        "  data.job = pd.get_dummies(data, columns=[\"job\"])\n",
        "  data.marital = pd.get_dummies(data, columns=[\"marital\"])\n",
        "  data.education = pd.get_dummies(data, columns=[\"education\"])\n",
        "  data.contact = pd.get_dummies(data, columns=[\"contact\"])\n",
        "  data.poutcome = pd.get_dummies(data, columns=[\"poutcome\"])\n",
        "  data.month = pd.get_dummies(data, columns=[\"month\"])\n",
        "\n",
        "  return data"
      ],
      "execution_count": null,
      "outputs": []
    },
    {
      "cell_type": "markdown",
      "metadata": {
        "id": "Shc2R03G7mG2"
      },
      "source": [
        "The Clean_Y performs the same actions as Clean_X on y only."
      ]
    },
    {
      "cell_type": "code",
      "metadata": {
        "id": "MI-5gH3N60go"
      },
      "source": [
        "def Clean_Y(data):\n",
        "  data.y.replace(('yes', 'no'), (1, 0), inplace=True)\n",
        "  return data"
      ],
      "execution_count": null,
      "outputs": []
    },
    {
      "cell_type": "markdown",
      "metadata": {
        "id": "PPn2ROBy70i7"
      },
      "source": [
        "The Accuracy function calculates the accuracy of the model at each iteration."
      ]
    },
    {
      "cell_type": "code",
      "metadata": {
        "id": "OJa-QTWwUUg-"
      },
      "source": [
        "def accuracy(predicted, actual):\n",
        "  diff = predicted - actual\n",
        "  return 1.0 - (float(np.count_nonzero(diff)) / predicted.shape[0])"
      ],
      "execution_count": null,
      "outputs": []
    },
    {
      "cell_type": "markdown",
      "metadata": {
        "id": "ultMMBJe78ek"
      },
      "source": [
        "The Decision Boundary function returns 0 or 1 according to the probability gotten."
      ]
    },
    {
      "cell_type": "code",
      "metadata": {
        "id": "6nR2riTsVEab"
      },
      "source": [
        "def decision_boundary(prob):\n",
        "  return 1 if prob >= .5 else 0"
      ],
      "execution_count": null,
      "outputs": []
    },
    {
      "cell_type": "markdown",
      "metadata": {
        "id": "jqoQKG5I8IXW"
      },
      "source": [
        "The Classify function will help in classifying the weights into 0s and 1s using the Decision Boundary Function."
      ]
    },
    {
      "cell_type": "code",
      "metadata": {
        "id": "y_bMQ5xkVLrh"
      },
      "source": [
        "def classify(predictions):\n",
        "  fun = np.vectorize(decision_boundary)\n",
        "  return fun(predictions).flatten()"
      ],
      "execution_count": null,
      "outputs": []
    }
  ]
}